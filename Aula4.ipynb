{
 "cells": [
  {
   "cell_type": "markdown",
   "metadata": {},
   "source": [
    "# Definição da classe Node para representar um nó na lista encadeada\n"
   ]
  },
  {
   "cell_type": "code",
   "execution_count": 7,
   "metadata": {},
   "outputs": [],
   "source": [
    "# Definição da classe Node para representar um nó na lista encadeada\n",
    "class Node:\n",
    "    def __init__(self, data):\n",
    "        self.data = data\n",
    "        self.next = None\n",
    "\n",
    "# Definição da classe LinkedList para representar a lista encadeada\n",
    "class LinkedList:\n",
    "    def __init__(self):\n",
    "        self.head = None\n",
    "\n",
    "    # Método para inserir um novo nó na lista\n",
    "    def inserir(self, data):\n",
    "        new_node = Node(data)\n",
    "        if self.head is None:\n",
    "            self.head = new_node\n",
    "            return\n",
    "        last_node = self.head\n",
    "        while last_node.next:\n",
    "            last_node = last_node.next\n",
    "        last_node.next = new_node\n",
    "\n",
    "    # Método para exibir os elementos da lista\n",
    "    def exibir_lista(self):\n",
    "        current = self.head\n",
    "        while current:\n",
    "            print(current.data, end=\" \")\n",
    "            current = current.next\n",
    "        print()\n",
    "\n",
    "    # Método para remover duplicatas da lista\n",
    "    def remover_duplicados(self):\n",
    "        current = self.head\n",
    "        seen = set()  # Conjunto para rastrear elementos únicos\n",
    "        previous = None\n",
    "        while current:\n",
    "            if current.data in seen:  # Verifica se o elemento já foi visto\n",
    "                previous.next = current.next  # Remove o nó duplicado\n",
    "            else:\n",
    "                seen.add(current.data)  # Adiciona o elemento ao conjunto de elementos vistos\n",
    "                previous = current\n",
    "            current = current.next"
   ]
  },
  {
   "cell_type": "markdown",
   "metadata": {},
   "source": [
    "# LinkedList"
   ]
  },
  {
   "cell_type": "code",
   "execution_count": 11,
   "metadata": {},
   "outputs": [],
   "source": [
    "# Criando uma instância da LinkedList\n",
    "lista = LinkedList()\n",
    "\n",
    "# Inserindo elementos na lista (incluindo duplicatas)\n",
    "lista.inserir(1)\n",
    "lista.inserir(2)\n",
    "lista.inserir(3)\n",
    "lista.inserir(2)\n",
    "lista.inserir(4)\n",
    "lista.inserir(1)\n",
    "\n"
   ]
  },
  {
   "cell_type": "markdown",
   "metadata": {},
   "source": [
    "# Exibição das listas"
   ]
  },
  {
   "cell_type": "code",
   "execution_count": 10,
   "metadata": {},
   "outputs": [
    {
     "name": "stdout",
     "output_type": "stream",
     "text": [
      "Lista original:\n",
      "1 2 3 4 \n",
      "Lista sem duplicatas:\n",
      "1 2 3 4 \n"
     ]
    }
   ],
   "source": [
    "# Exibindo a lista original\n",
    "print(\"Lista original:\")\n",
    "lista.exibir_lista()\n",
    "\n",
    "# Removendo as duplicatas da lista\n",
    "lista.remover_duplicados()\n",
    "\n",
    "# Exibindo a lista sem duplicatas\n",
    "print(\"Lista sem duplicatas:\")\n",
    "lista.exibir_lista()"
   ]
  },
  {
   "cell_type": "code",
   "execution_count": null,
   "metadata": {},
   "outputs": [],
   "source": []
  }
 ],
 "metadata": {
  "kernelspec": {
   "display_name": "Python 3",
   "language": "python",
   "name": "python3"
  },
  "language_info": {
   "codemirror_mode": {
    "name": "ipython",
    "version": 3
   },
   "file_extension": ".py",
   "mimetype": "text/x-python",
   "name": "python",
   "nbconvert_exporter": "python",
   "pygments_lexer": "ipython3",
   "version": "3.11.8"
  }
 },
 "nbformat": 4,
 "nbformat_minor": 2
}
